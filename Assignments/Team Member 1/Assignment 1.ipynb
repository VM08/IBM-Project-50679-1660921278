{
 "cells": [
  {
   "cell_type": "markdown",
   "id": "5e96fa74",
   "metadata": {},
   "source": [
    "Basic Python\n"
   ]
  },
  {
   "cell_type": "markdown",
   "id": "0d43d640",
   "metadata": {},
   "source": [
    "1.Split the string"
   ]
  },
  {
   "cell_type": "code",
   "execution_count": 8,
   "id": "ec5be109",
   "metadata": {},
   "outputs": [
    {
     "name": "stdout",
     "output_type": "stream",
     "text": [
      "['Hi', 'there', 'Sam!']\n"
     ]
    }
   ],
   "source": [
    "s = \"This is kumar!\"\n",
    "out = s.split()\n",
    "print(out)"
   ]
  },
  {
   "cell_type": "markdown",
   "id": "85aa5355",
   "metadata": {},
   "source": [
    "2.Use .format() to print the following string."
   ]
  },
  {
   "cell_type": "code",
   "execution_count": 4,
   "id": "478a6497",
   "metadata": {},
   "outputs": [
    {
     "name": "stdout",
     "output_type": "stream",
     "text": [
      "The diameter of Earth is 12742 kilometesrs\n"
     ]
    }
   ],
   "source": [
    "planet = \"Mercury\"\n",
    "diameter = 78654\n",
    "print(\"The diameter of {planet} is {diameter} kilometesrs\".format(planet=\"Earth\",diameter=12742))"
   ]
  },
  {
   "cell_type": "markdown",
   "id": "6c0a75ae",
   "metadata": {},
   "source": [
    "3.In this nest dictionary grab the word \"hello\""
   ]
  },
  {
   "cell_type": "code",
   "execution_count": 3,
   "id": "9426684e",
   "metadata": {},
   "outputs": [
    {
     "name": "stdout",
     "output_type": "stream",
     "text": [
      "hello\n"
     ]
    }
   ],
   "source": [
    "Nest_Dic= {'k1':[1,2,3,{'tricky':['oh','man','inception',{'target':[1,2,3,'hello']}]}]}\n",
    "print(Nest_Dic['k1'][3]['tricky'][3]['target'][3])"
   ]
  },
  {
   "cell_type": "markdown",
   "id": "dcceb35b",
   "metadata": {},
   "source": [
    "Numpy"
   ]
  },
  {
   "cell_type": "code",
   "execution_count": 7,
   "id": "7912bbe5",
   "metadata": {},
   "outputs": [],
   "source": [
    "import numpy as np"
   ]
  },
  {
   "cell_type": "markdown",
   "id": "a3f5c26d",
   "metadata": {},
   "source": [
    "4.1 Create an array of 10 zeros?"
   ]
  },
  {
   "cell_type": "code",
   "execution_count": 1,
   "id": "1d63f41d",
   "metadata": {},
   "outputs": [
    {
     "name": "stdout",
     "output_type": "stream",
     "text": [
      "[0, 0, 0, 0, 0, 0, 0, 0, 0, 0]\n"
     ]
    }
   ],
   "source": [
    "ARR_Z = [0] * 10\n",
    "print (ARR_Z)"
   ]
  },
  {
   "cell_type": "markdown",
   "id": "fade52fd",
   "metadata": {},
   "source": [
    "4.2 Create an array of 10 fives?"
   ]
  },
  {
   "cell_type": "code",
   "execution_count": 5,
   "id": "a3d616fb",
   "metadata": {},
   "outputs": [
    {
     "name": "stdout",
     "output_type": "stream",
     "text": [
      "[5, 5, 5, 5, 5, 5, 5, 5, 5, 5]\n"
     ]
    }
   ],
   "source": [
    "ARR_t = [5]*10\n",
    "print(ARR_t)"
   ]
  },
  {
   "cell_type": "raw",
   "id": "51dae94b",
   "metadata": {},
   "source": [
    "5. Create an array of all the even integers from 20 to 35\n"
   ]
  },
  {
   "cell_type": "code",
   "execution_count": 6,
   "id": "2c144ac8",
   "metadata": {},
   "outputs": [
    {
     "name": "stdout",
     "output_type": "stream",
     "text": [
      "[20 22 24 26 28 30 32 34]\n"
     ]
    }
   ],
   "source": [
    "import numpy as np\n",
    "Array_E=np.arange(20,35,2)\n",
    "print(Array_E)"
   ]
  },
  {
   "cell_type": "raw",
   "id": "08833a21",
   "metadata": {},
   "source": [
    "6. Create a 3x3 matrix with values ranging from 0 to 8\n"
   ]
  },
  {
   "cell_type": "code",
   "execution_count": 7,
   "id": "ff66ac4b",
   "metadata": {},
   "outputs": [
    {
     "name": "stdout",
     "output_type": "stream",
     "text": [
      "[[0 1 2]\n",
      " [3 4 5]\n",
      " [6 7 8]]\n"
     ]
    }
   ],
   "source": [
    "import numpy as np\n",
    "Matrix_three =  np.arange(0,9).reshape(3,3)\n",
    "print(Matrix_three)"
   ]
  },
  {
   "cell_type": "raw",
   "id": "dad42144",
   "metadata": {},
   "source": [
    "7. Concatenate a and b\n",
    "a = np.array([1, 2, 3]), b = np.array([4, 5, 6])"
   ]
  },
  {
   "cell_type": "code",
   "execution_count": 8,
   "id": "8f8ae896",
   "metadata": {},
   "outputs": [
    {
     "name": "stdout",
     "output_type": "stream",
     "text": [
      "[24 27 80 47 95 36]\n"
     ]
    }
   ],
   "source": [
    "import numpy as np\n",
    "First = np.array([24, 27, 80])\n",
    "Second = np.array([47, 95, 36])\n",
    "print(np.concatenate((First,Second)))"
   ]
  },
  {
   "cell_type": "raw",
   "id": "fdac9828",
   "metadata": {},
   "source": [
    "Pandas"
   ]
  },
  {
   "cell_type": "raw",
   "id": "8bfbd0ef",
   "metadata": {},
   "source": [
    "8. Create a dataframe with 3 rows and 2 columns\n"
   ]
  },
  {
   "cell_type": "code",
   "execution_count": 14,
   "id": "2d74a594",
   "metadata": {},
   "outputs": [],
   "source": [
    "import pandas as pd"
   ]
  },
  {
   "cell_type": "code",
   "execution_count": 16,
   "id": "b8c5f425",
   "metadata": {},
   "outputs": [
    {
     "name": "stdout",
     "output_type": "stream",
     "text": [
      "     column1    column2\n",
      "0         d1         d2\n",
      "1         d3         d4\n",
      "2         d5         d6\n"
     ]
    }
   ],
   "source": [
    "array=[[\"d1\",\"d2\"],[\"d3\",\"d4\"],[\"d5\",\"d6\"]]\n",
    "dataframe = pd.DataFrame (array,columns=['   column1','   column2'])\n",
    "print(dataframe)"
   ]
  },
  {
   "cell_type": "raw",
   "id": "72a73580",
   "metadata": {},
   "source": [
    "9. Generate the series of dates from 1st Jan, 2023 to 10th Feb, 2023\n"
   ]
  },
  {
   "cell_type": "code",
   "execution_count": 17,
   "id": "52a78a73",
   "metadata": {},
   "outputs": [
    {
     "name": "stdout",
     "output_type": "stream",
     "text": [
      "2023-01-01 00:00:00\n",
      "2023-01-02 00:00:00\n",
      "2023-01-03 00:00:00\n",
      "2023-01-04 00:00:00\n",
      "2023-01-05 00:00:00\n",
      "2023-01-06 00:00:00\n",
      "2023-01-07 00:00:00\n",
      "2023-01-08 00:00:00\n",
      "2023-01-09 00:00:00\n",
      "2023-01-10 00:00:00\n",
      "2023-01-11 00:00:00\n",
      "2023-01-12 00:00:00\n",
      "2023-01-13 00:00:00\n",
      "2023-01-14 00:00:00\n",
      "2023-01-15 00:00:00\n",
      "2023-01-16 00:00:00\n",
      "2023-01-17 00:00:00\n",
      "2023-01-18 00:00:00\n",
      "2023-01-19 00:00:00\n",
      "2023-01-20 00:00:00\n",
      "2023-01-21 00:00:00\n",
      "2023-01-22 00:00:00\n",
      "2023-01-23 00:00:00\n",
      "2023-01-24 00:00:00\n",
      "2023-01-25 00:00:00\n",
      "2023-01-26 00:00:00\n",
      "2023-01-27 00:00:00\n",
      "2023-01-28 00:00:00\n",
      "2023-01-29 00:00:00\n",
      "2023-01-30 00:00:00\n",
      "2023-01-31 00:00:00\n",
      "2023-02-01 00:00:00\n",
      "2023-02-02 00:00:00\n",
      "2023-02-03 00:00:00\n",
      "2023-02-04 00:00:00\n",
      "2023-02-05 00:00:00\n",
      "2023-02-06 00:00:00\n",
      "2023-02-07 00:00:00\n",
      "2023-02-08 00:00:00\n",
      "2023-02-09 00:00:00\n",
      "2023-02-10 00:00:00\n"
     ]
    }
   ],
   "source": [
    "import pandas as pd\n",
    "dates = pd.date_range('1-1-2023','2-10-2023',freq = 'D')\n",
    "for val in dates:\n",
    "  print(val);"
   ]
  },
  {
   "cell_type": "raw",
   "id": "b4adf68f",
   "metadata": {},
   "source": [
    "10. Create 2D list to DataFrame\n",
    "\n",
    "lists = [[1, 'aaa', 22], [2, 'bbb', 25], [3, 'ccc', 24]]\n",
    "\n"
   ]
  },
  {
   "cell_type": "code",
   "execution_count": 18,
   "id": "4225ccab",
   "metadata": {},
   "outputs": [],
   "source": [
    "lists = [[1, 'aaa', 22], [2, 'bbb', 25], [3, 'ccc', 24]]\n",
    "\n"
   ]
  },
  {
   "cell_type": "code",
   "execution_count": 19,
   "id": "de54de33",
   "metadata": {},
   "outputs": [
    {
     "name": "stdout",
     "output_type": "stream",
     "text": [
      "   c1   c2  c3\n",
      "0   1  aaa  22\n",
      "1   2  bbb  25\n",
      "2   3  ccc  24\n"
     ]
    }
   ],
   "source": [
    "\n",
    "dataframe = pd.DataFrame(lists, columns = ['c1', 'c2','c3'])\n",
    "\n",
    "print(dataframe)"
   ]
  }
 ],
 "metadata": {
  "kernelspec": {
   "display_name": "Python 3 (ipykernel)",
   "language": "python",
   "name": "python3"
  },
  "language_info": {
   "codemirror_mode": {
    "name": "ipython",
    "version": 3
   },
   "file_extension": ".py",
   "mimetype": "text/x-python",
   "name": "python",
   "nbconvert_exporter": "python",
   "pygments_lexer": "ipython3",
   "version": "3.9.12"
  }
 },
 "nbformat": 4,
 "nbformat_minor": 5
}
